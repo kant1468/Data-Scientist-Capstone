{
 "cells": [
  {
   "cell_type": "markdown",
   "metadata": {},
   "source": [
    "# Sparkify Project Workspace\n",
    "This workspace contains a tiny subset (128MB) of the full dataset available (12GB). Feel free to use this workspace to build your project, or to explore a smaller subset with Spark before deploying your cluster on the cloud. Instructions for setting up your Spark cluster is included in the last lesson of the Extracurricular Spark Course content.\n",
    "\n",
    "You can follow the steps below to guide your data analysis and model building portion of this project."
   ]
  },
  {
   "cell_type": "code",
   "execution_count": 1,
   "metadata": {},
   "outputs": [],
   "source": [
    "# import libraries\n",
    "from pyspark.sql import SparkSession\n",
    "from pyspark.sql import functions as F\n",
    "from pyspark.sql.functions import isnan, count, when, col, desc, udf, col, sort_array, asc, avg\n",
    "from pyspark.sql import Window\n",
    "import matplotlib.pyplot as plt\n",
    "import numpy as np\n",
    "import pandas as pd\n",
    "import seaborn as sns\n",
    "from pyspark.ml.feature import VectorAssembler, StandardScaler, MinMaxScaler, Normalizer\n",
    "from pyspark.ml import Pipeline\n",
    "from pyspark.ml.evaluation import MulticlassClassificationEvaluator\n",
    "from pyspark.ml.tuning import CrossValidator, ParamGridBuilder\n",
    "from pyspark.ml.classification import LogisticRegression, RandomForestClassifier, GBTClassifier, LinearSVC, NaiveBayes\n",
    "import time\n",
    "from pyspark.sql.functions import regexp_extract\n",
    "pd.options.display.max_rows = 999"
   ]
  },
  {
   "cell_type": "code",
   "execution_count": 2,
   "metadata": {},
   "outputs": [],
   "source": [
    "# create a Spark session\n",
    "spark = SparkSession.builder \\\n",
    "    .master(\"local\") \\\n",
    "    .appName(\"Sparkify\") \\\n",
    "    .config(\"spark.sql.repl.eagerEval.enabled\", True) \\\n",
    "    .getOrCreate()"
   ]
  },
  {
   "cell_type": "markdown",
   "metadata": {},
   "source": [
    "# Load and Clean Dataset\n",
    "In this workspace, the mini-dataset file is `mini_sparkify_event_data.json`. Load and clean the dataset, checking for invalid or missing data - for example, records without userids or sessionids. "
   ]
  },
  {
   "cell_type": "markdown",
   "metadata": {},
   "source": [
    "## Load data"
   ]
  },
  {
   "cell_type": "code",
   "execution_count": 3,
   "metadata": {},
   "outputs": [
    {
     "data": {
      "text/html": [
       "<table border='1'>\n",
       "<tr><th>artist</th><th>auth</th><th>firstName</th><th>gender</th><th>itemInSession</th><th>lastName</th><th>length</th><th>level</th><th>location</th><th>method</th><th>page</th><th>registration</th><th>sessionId</th><th>song</th><th>status</th><th>ts</th><th>userAgent</th><th>userId</th></tr>\n",
       "<tr><td>Martha Tilston</td><td>Logged In</td><td>Colin</td><td>M</td><td>50</td><td>Freeman</td><td>277.89016</td><td>paid</td><td>Bakersfield, CA</td><td>PUT</td><td>NextSong</td><td>1538173362000</td><td>29</td><td>Rockpools</td><td>200</td><td>1538352117000</td><td>Mozilla/5.0 (Wind...</td><td>30</td></tr>\n",
       "<tr><td>Five Iron Frenzy</td><td>Logged In</td><td>Micah</td><td>M</td><td>79</td><td>Long</td><td>236.09424</td><td>free</td><td>Boston-Cambridge-...</td><td>PUT</td><td>NextSong</td><td>1538331630000</td><td>8</td><td>Canada</td><td>200</td><td>1538352180000</td><td>&quot;Mozilla/5.0 (Win...</td><td>9</td></tr>\n",
       "<tr><td>Adam Lambert</td><td>Logged In</td><td>Colin</td><td>M</td><td>51</td><td>Freeman</td><td>282.8273</td><td>paid</td><td>Bakersfield, CA</td><td>PUT</td><td>NextSong</td><td>1538173362000</td><td>29</td><td>Time For Miracles</td><td>200</td><td>1538352394000</td><td>Mozilla/5.0 (Wind...</td><td>30</td></tr>\n",
       "<tr><td>Enigma</td><td>Logged In</td><td>Micah</td><td>M</td><td>80</td><td>Long</td><td>262.71302</td><td>free</td><td>Boston-Cambridge-...</td><td>PUT</td><td>NextSong</td><td>1538331630000</td><td>8</td><td>Knocking On Forbi...</td><td>200</td><td>1538352416000</td><td>&quot;Mozilla/5.0 (Win...</td><td>9</td></tr>\n",
       "<tr><td>Daft Punk</td><td>Logged In</td><td>Colin</td><td>M</td><td>52</td><td>Freeman</td><td>223.60771</td><td>paid</td><td>Bakersfield, CA</td><td>PUT</td><td>NextSong</td><td>1538173362000</td><td>29</td><td>Harder Better Fas...</td><td>200</td><td>1538352676000</td><td>Mozilla/5.0 (Wind...</td><td>30</td></tr>\n",
       "</table>\n"
      ],
      "text/plain": [
       "+----------------+---------+---------+------+-------------+--------+---------+-----+--------------------+------+--------+-------------+---------+--------------------+------+-------------+--------------------+------+\n",
       "|          artist|     auth|firstName|gender|itemInSession|lastName|   length|level|            location|method|    page| registration|sessionId|                song|status|           ts|           userAgent|userId|\n",
       "+----------------+---------+---------+------+-------------+--------+---------+-----+--------------------+------+--------+-------------+---------+--------------------+------+-------------+--------------------+------+\n",
       "|  Martha Tilston|Logged In|    Colin|     M|           50| Freeman|277.89016| paid|     Bakersfield, CA|   PUT|NextSong|1538173362000|       29|           Rockpools|   200|1538352117000|Mozilla/5.0 (Wind...|    30|\n",
       "|Five Iron Frenzy|Logged In|    Micah|     M|           79|    Long|236.09424| free|Boston-Cambridge-...|   PUT|NextSong|1538331630000|        8|              Canada|   200|1538352180000|\"Mozilla/5.0 (Win...|     9|\n",
       "|    Adam Lambert|Logged In|    Colin|     M|           51| Freeman| 282.8273| paid|     Bakersfield, CA|   PUT|NextSong|1538173362000|       29|   Time For Miracles|   200|1538352394000|Mozilla/5.0 (Wind...|    30|\n",
       "|          Enigma|Logged In|    Micah|     M|           80|    Long|262.71302| free|Boston-Cambridge-...|   PUT|NextSong|1538331630000|        8|Knocking On Forbi...|   200|1538352416000|\"Mozilla/5.0 (Win...|     9|\n",
       "|       Daft Punk|Logged In|    Colin|     M|           52| Freeman|223.60771| paid|     Bakersfield, CA|   PUT|NextSong|1538173362000|       29|Harder Better Fas...|   200|1538352676000|Mozilla/5.0 (Wind...|    30|\n",
       "+----------------+---------+---------+------+-------------+--------+---------+-----+--------------------+------+--------+-------------+---------+--------------------+------+-------------+--------------------+------+"
      ]
     },
     "execution_count": 3,
     "metadata": {},
     "output_type": "execute_result"
    }
   ],
   "source": [
    "# read first 5 rows\n",
    "df = spark.read.json('mini_sparkify_event_data.json')\n",
    "df.limit(5)"
   ]
  },
  {
   "cell_type": "code",
   "execution_count": 4,
   "metadata": {},
   "outputs": [
    {
     "data": {
      "text/plain": [
       "286500"
      ]
     },
     "execution_count": 4,
     "metadata": {},
     "output_type": "execute_result"
    }
   ],
   "source": [
    "# check the number of data\n",
    "df.count()"
   ]
  },
  {
   "cell_type": "code",
   "execution_count": 5,
   "metadata": {},
   "outputs": [
    {
     "data": {
      "text/plain": [
       "18"
      ]
     },
     "execution_count": 5,
     "metadata": {},
     "output_type": "execute_result"
    }
   ],
   "source": [
    "# check the number of columns\n",
    "len(df.columns)"
   ]
  },
  {
   "cell_type": "code",
   "execution_count": 6,
   "metadata": {},
   "outputs": [
    {
     "data": {
      "text/plain": [
       "['artist',\n",
       " 'auth',\n",
       " 'firstName',\n",
       " 'gender',\n",
       " 'itemInSession',\n",
       " 'lastName',\n",
       " 'length',\n",
       " 'level',\n",
       " 'location',\n",
       " 'method',\n",
       " 'page',\n",
       " 'registration',\n",
       " 'sessionId',\n",
       " 'song',\n",
       " 'status',\n",
       " 'ts',\n",
       " 'userAgent',\n",
       " 'userId']"
      ]
     },
     "execution_count": 6,
     "metadata": {},
     "output_type": "execute_result"
    }
   ],
   "source": [
    "# check columns name\n",
    "df.columns"
   ]
  },
  {
   "cell_type": "code",
   "execution_count": 7,
   "metadata": {},
   "outputs": [
    {
     "data": {
      "text/html": [
       "<table border='1'>\n",
       "<tr><th>artist</th><th>auth</th><th>firstName</th><th>gender</th><th>itemInSession</th><th>lastName</th><th>length</th><th>level</th><th>location</th><th>method</th><th>page</th><th>registration</th><th>sessionId</th><th>song</th><th>status</th><th>ts</th><th>userAgent</th><th>userId</th></tr>\n",
       "<tr><td>58392</td><td>0</td><td>8346</td><td>8346</td><td>0</td><td>8346</td><td>58392</td><td>0</td><td>8346</td><td>0</td><td>0</td><td>8346</td><td>0</td><td>58392</td><td>0</td><td>0</td><td>8346</td><td>0</td></tr>\n",
       "</table>\n"
      ],
      "text/plain": [
       "+------+----+---------+------+-------------+--------+------+-----+--------+------+----+------------+---------+-----+------+---+---------+------+\n",
       "|artist|auth|firstName|gender|itemInSession|lastName|length|level|location|method|page|registration|sessionId| song|status| ts|userAgent|userId|\n",
       "+------+----+---------+------+-------------+--------+------+-----+--------+------+----+------------+---------+-----+------+---+---------+------+\n",
       "| 58392|   0|     8346|  8346|            0|    8346| 58392|    0|    8346|     0|   0|        8346|        0|58392|     0|  0|     8346|     0|\n",
       "+------+----+---------+------+-------------+--------+------+-----+--------+------+----+------------+---------+-----+------+---+---------+------+"
      ]
     },
     "execution_count": 7,
     "metadata": {},
     "output_type": "execute_result"
    }
   ],
   "source": [
    "# Check data null\n",
    "df.select([F.count(F.when(F.col(c).isNull(), c)).alias(c) for c in df.columns])"
   ]
  },
  {
   "cell_type": "code",
   "execution_count": 8,
   "metadata": {},
   "outputs": [
    {
     "data": {
      "text/html": [
       "<table border='1'>\n",
       "<tr><th>userId</th></tr>\n",
       "<tr><td></td></tr>\n",
       "<tr><td></td></tr>\n",
       "<tr><td></td></tr>\n",
       "<tr><td></td></tr>\n",
       "<tr><td></td></tr>\n",
       "<tr><td></td></tr>\n",
       "<tr><td></td></tr>\n",
       "<tr><td></td></tr>\n",
       "<tr><td></td></tr>\n",
       "<tr><td></td></tr>\n",
       "</table>\n"
      ],
      "text/plain": [
       "+------+\n",
       "|userId|\n",
       "+------+\n",
       "|      |\n",
       "|      |\n",
       "|      |\n",
       "|      |\n",
       "|      |\n",
       "|      |\n",
       "|      |\n",
       "|      |\n",
       "|      |\n",
       "|      |\n",
       "+------+"
      ]
     },
     "execution_count": 8,
     "metadata": {},
     "output_type": "execute_result"
    }
   ],
   "source": [
    "# check userID\n",
    "df.select('userId').sort('userID').limit(10)"
   ]
  },
  {
   "cell_type": "markdown",
   "metadata": {},
   "source": [
    "user ID have an empty string, we need to remove it"
   ]
  },
  {
   "cell_type": "code",
   "execution_count": 9,
   "metadata": {},
   "outputs": [
    {
     "data": {
      "text/html": [
       "<table border='1'>\n",
       "<tr><th>userId</th><th>count</th></tr>\n",
       "<tr><td>39</td><td>9632</td></tr>\n",
       "<tr><td></td><td>8346</td></tr>\n",
       "<tr><td>92</td><td>7230</td></tr>\n",
       "<tr><td>140</td><td>6880</td></tr>\n",
       "<tr><td>300011</td><td>5732</td></tr>\n",
       "</table>\n"
      ],
      "text/plain": [
       "+------+-----+\n",
       "|userId|count|\n",
       "+------+-----+\n",
       "|    39| 9632|\n",
       "|      | 8346|\n",
       "|    92| 7230|\n",
       "|   140| 6880|\n",
       "|300011| 5732|\n",
       "+------+-----+"
      ]
     },
     "execution_count": 9,
     "metadata": {},
     "output_type": "execute_result"
    }
   ],
   "source": [
    "# check top of duplicates userID\n",
    "df.groupBy('userId').count().orderBy('count', ascending=False).limit(5)"
   ]
  },
  {
   "cell_type": "markdown",
   "metadata": {},
   "source": [
    "we have many duplicates value in user Id, we need to remove duplicates user Id for EDA. Besides that, empty string user id have 8346 duplicates value"
   ]
  },
  {
   "cell_type": "code",
   "execution_count": 10,
   "metadata": {},
   "outputs": [
    {
     "data": {
      "text/html": [
       "<table border='1'>\n",
       "<tr><th>gender</th><th>count</th></tr>\n",
       "<tr><td>F</td><td>154578</td></tr>\n",
       "<tr><td>NULL</td><td>8346</td></tr>\n",
       "<tr><td>M</td><td>123576</td></tr>\n",
       "</table>\n"
      ],
      "text/plain": [
       "+------+------+\n",
       "|gender| count|\n",
       "+------+------+\n",
       "|     F|154578|\n",
       "|  NULL|  8346|\n",
       "|     M|123576|\n",
       "+------+------+"
      ]
     },
     "execution_count": 10,
     "metadata": {},
     "output_type": "execute_result"
    }
   ],
   "source": [
    "df.groupBy('gender').count()"
   ]
  },
  {
   "cell_type": "markdown",
   "metadata": {},
   "source": [
    "At gender we have 8346 null values, it seem like empty string at user id make null gender "
   ]
  },
  {
   "cell_type": "code",
   "execution_count": 11,
   "metadata": {},
   "outputs": [
    {
     "data": {
      "text/html": [
       "<table border='1'>\n",
       "<tr><th>level</th><th>count</th></tr>\n",
       "<tr><td>free</td><td>58338</td></tr>\n",
       "<tr><td>paid</td><td>228162</td></tr>\n",
       "</table>\n"
      ],
      "text/plain": [
       "+-----+------+\n",
       "|level| count|\n",
       "+-----+------+\n",
       "| free| 58338|\n",
       "| paid|228162|\n",
       "+-----+------+"
      ]
     },
     "execution_count": 11,
     "metadata": {},
     "output_type": "execute_result"
    }
   ],
   "source": [
    "df.groupBy('level').count()"
   ]
  },
  {
   "cell_type": "code",
   "execution_count": 12,
   "metadata": {},
   "outputs": [
    {
     "data": {
      "text/html": [
       "<table border='1'>\n",
       "<tr><th>page</th><th>count</th></tr>\n",
       "<tr><td>Cancel</td><td>52</td></tr>\n",
       "<tr><td>Submit Downgrade</td><td>63</td></tr>\n",
       "<tr><td>Thumbs Down</td><td>2546</td></tr>\n",
       "<tr><td>Home</td><td>14457</td></tr>\n",
       "<tr><td>Downgrade</td><td>2055</td></tr>\n",
       "<tr><td>Roll Advert</td><td>3933</td></tr>\n",
       "<tr><td>Logout</td><td>3226</td></tr>\n",
       "<tr><td>Save Settings</td><td>310</td></tr>\n",
       "<tr><td>Cancellation Conf...</td><td>52</td></tr>\n",
       "<tr><td>About</td><td>924</td></tr>\n",
       "<tr><td>Submit Registration</td><td>5</td></tr>\n",
       "<tr><td>Settings</td><td>1514</td></tr>\n",
       "<tr><td>Login</td><td>3241</td></tr>\n",
       "<tr><td>Register</td><td>18</td></tr>\n",
       "<tr><td>Add to Playlist</td><td>6526</td></tr>\n",
       "<tr><td>Add Friend</td><td>4277</td></tr>\n",
       "<tr><td>NextSong</td><td>228108</td></tr>\n",
       "<tr><td>Thumbs Up</td><td>12551</td></tr>\n",
       "<tr><td>Help</td><td>1726</td></tr>\n",
       "<tr><td>Upgrade</td><td>499</td></tr>\n",
       "</table>\n",
       "only showing top 20 rows\n"
      ],
      "text/plain": [
       "+--------------------+------+\n",
       "|                page| count|\n",
       "+--------------------+------+\n",
       "|              Cancel|    52|\n",
       "|    Submit Downgrade|    63|\n",
       "|         Thumbs Down|  2546|\n",
       "|                Home| 14457|\n",
       "|           Downgrade|  2055|\n",
       "|         Roll Advert|  3933|\n",
       "|              Logout|  3226|\n",
       "|       Save Settings|   310|\n",
       "|Cancellation Conf...|    52|\n",
       "|               About|   924|\n",
       "| Submit Registration|     5|\n",
       "|            Settings|  1514|\n",
       "|               Login|  3241|\n",
       "|            Register|    18|\n",
       "|     Add to Playlist|  6526|\n",
       "|          Add Friend|  4277|\n",
       "|            NextSong|228108|\n",
       "|           Thumbs Up| 12551|\n",
       "|                Help|  1726|\n",
       "|             Upgrade|   499|\n",
       "+--------------------+------+\n",
       "only showing top 20 rows"
      ]
     },
     "execution_count": 12,
     "metadata": {},
     "output_type": "execute_result"
    }
   ],
   "source": [
    "df.groupBy('page').count()"
   ]
  },
  {
   "cell_type": "code",
   "execution_count": 13,
   "metadata": {},
   "outputs": [],
   "source": [
    "df = df.filter(df['gender'] != '')"
   ]
  },
  {
   "cell_type": "code",
   "execution_count": null,
   "metadata": {},
   "outputs": [],
   "source": []
  },
  {
   "cell_type": "code",
   "execution_count": null,
   "metadata": {},
   "outputs": [],
   "source": []
  },
  {
   "cell_type": "markdown",
   "metadata": {},
   "source": [
    "# Exploratory Data Analysis\n",
    "When you're working with the full dataset, perform EDA by loading a small subset of the data and doing basic manipulations within Spark. In this workspace, you are already provided a small subset of data you can explore.\n",
    "\n",
    "### Define Churn\n",
    "\n",
    "Once you've done some preliminary analysis, create a column `Churn` to use as the label for your model. I suggest using the `Cancellation Confirmation` events to define your churn, which happen for both paid and free users. As a bonus task, you can also look into the `Downgrade` events.\n",
    "\n",
    "### Explore Data\n",
    "Once you've defined churn, perform some exploratory data analysis to observe the behavior for users who stayed vs users who churned. You can start by exploring aggregates on these two groups of users, observing how much of a specific action they experienced per a certain time unit or number of songs played."
   ]
  },
  {
   "cell_type": "code",
   "execution_count": 14,
   "metadata": {},
   "outputs": [],
   "source": [
    "# Create new column Churn \n",
    "df = df.withColumn(\"churn\", F.when(F.col(\"page\") == \"Cancellation Confirmation\", 1).otherwise(0))"
   ]
  },
  {
   "cell_type": "code",
   "execution_count": 15,
   "metadata": {},
   "outputs": [
    {
     "name": "stdout",
     "output_type": "stream",
     "text": [
      "+--------------------+---------+---------+------+-------------+--------+---------+-----+----------+------+--------+-------------+---------+--------------------+------+-------------+--------------------+------+-----+----------+\n",
      "|              artist|     auth|firstName|gender|itemInSession|lastName|   length|level|  location|method|    page| registration|sessionId|                song|status|           ts|           userAgent|userId|churn|totalChurn|\n",
      "+--------------------+---------+---------+------+-------------+--------+---------+-----+----------+------+--------+-------------+---------+--------------------+------+-------------+--------------------+------+-----+----------+\n",
      "|            Sea Wolf|Logged In|   Brycen|     M|            0| Bradley|265.53424| paid|Laurel, MS|   PUT|NextSong|1538159495000|        9|       Ses Monuments|   200|1538965220000|\"Mozilla/5.0 (Mac...|    10|    0|         0|\n",
      "|George Baker Sele...|Logged In|   Brycen|     M|            1| Bradley| 200.4371| paid|Laurel, MS|   PUT|NextSong|1538159495000|        9|         Morning Sky|   200|1538965485000|\"Mozilla/5.0 (Mac...|    10|    0|         0|\n",
      "|          Klaus Lage|Logged In|   Brycen|     M|            2| Bradley|208.03873| paid|Laurel, MS|   PUT|NextSong|1538159495000|        9|Du Hast'n Freund ...|   200|1538965685000|\"Mozilla/5.0 (Mac...|    10|    0|         0|\n",
      "|         Dave Grusin|Logged In|   Brycen|     M|            3| Bradley|526.44526| paid|Laurel, MS|   PUT|NextSong|1538159495000|        9|             Playera|   200|1538965893000|\"Mozilla/5.0 (Mac...|    10|    0|         0|\n",
      "|    Blue Oyster Cult|Logged In|   Brycen|     M|            4| Bradley|272.06485| paid|Laurel, MS|   PUT|NextSong|1538159495000|        9|     Burnin' For You|   200|1538966419000|\"Mozilla/5.0 (Mac...|    10|    0|         0|\n",
      "+--------------------+---------+---------+------+-------------+--------+---------+-----+----------+------+--------+-------------+---------+--------------------+------+-------------+--------------------+------+-----+----------+\n",
      "only showing top 5 rows\n",
      "\n"
     ]
    }
   ],
   "source": [
    "# Create columns for Total Downgrade and Total Churn\n",
    "window_user = Window.partitionBy(\"userId\").orderBy(asc(\"ts\")).rangeBetween(Window.unboundedPreceding, Window.unboundedFollowing)\n",
    "df = df.withColumn(\"totalChurn\", F.sum(\"churn\").over(window_user))\n",
    "df.show(5)"
   ]
  },
  {
   "cell_type": "code",
   "execution_count": 16,
   "metadata": {},
   "outputs": [],
   "source": [
    "# sort data by ts to get last action to the first by each user\n",
    "df_sort = df.orderBy('userID', desc('ts'))"
   ]
  },
  {
   "cell_type": "code",
   "execution_count": 17,
   "metadata": {},
   "outputs": [],
   "source": [
    "df_unique_user = df_sort.dropDuplicates(['userID'])"
   ]
  },
  {
   "cell_type": "code",
   "execution_count": null,
   "metadata": {},
   "outputs": [],
   "source": []
  },
  {
   "cell_type": "markdown",
   "metadata": {},
   "source": [
    "### User Active vs User Cancel"
   ]
  },
  {
   "cell_type": "code",
   "execution_count": 18,
   "metadata": {},
   "outputs": [
    {
     "data": {
      "text/html": [
       "<table border='1'>\n",
       "<tr><th>churn</th><th>count</th></tr>\n",
       "<tr><td>1</td><td>51</td></tr>\n",
       "<tr><td>0</td><td>174</td></tr>\n",
       "</table>\n"
      ],
      "text/plain": [
       "+-----+-----+\n",
       "|churn|count|\n",
       "+-----+-----+\n",
       "|    1|   51|\n",
       "|    0|  174|\n",
       "+-----+-----+"
      ]
     },
     "execution_count": 18,
     "metadata": {},
     "output_type": "execute_result"
    }
   ],
   "source": [
    "# Create new df active or cancel\n",
    "df_churn = df_unique_user.select(['userId', 'churn']).groupBy('churn').count()\n",
    "df_churn"
   ]
  },
  {
   "cell_type": "code",
   "execution_count": 19,
   "metadata": {},
   "outputs": [],
   "source": [
    "# convert to pandas\n",
    "df_churn = df_churn.toPandas()"
   ]
  },
  {
   "cell_type": "code",
   "execution_count": 20,
   "metadata": {},
   "outputs": [
    {
     "name": "stderr",
     "output_type": "stream",
     "text": [
      "C:\\Users\\tridh\\AppData\\Local\\Temp\\ipykernel_22116\\3648664545.py:4: UserWarning: set_ticklabels() should only be used with a fixed number of ticks, i.e. after set_ticks() or using a FixedLocator.\n",
      "  ax.set_xticklabels([\"Active\", \"Cancel\"])\n"
     ]
    },
    {
     "data": {
      "image/png": "[encoded data removed]",
      "text/plain": [
       "<Figure size 800x600 with 1 Axes>"
      ]
     },
     "metadata": {},
     "output_type": "display_data"
    }
   ],
   "source": [
    "# draw chart\n",
    "plt.figure(figsize = [8,6])\n",
    "ax = sns.barplot(data = df_churn, x = 'churn', y='count')\n",
    "ax.set_xticklabels([\"Active\", \"Cancel\"])\n",
    "ax.set_xlabel(\"Status\")\n",
    "plt.title(\"Numbers of Users That Active or Cancel\");\n",
    "plt.savefig('./graph/Numbers of Users That Active or Cancel.png')"
   ]
  },
  {
   "cell_type": "code",
   "execution_count": null,
   "metadata": {},
   "outputs": [],
   "source": []
  },
  {
   "cell_type": "markdown",
   "metadata": {},
   "source": [
    "### Gender of users Active and Cancel"
   ]
  },
  {
   "cell_type": "code",
   "execution_count": 21,
   "metadata": {},
   "outputs": [
    {
     "data": {
      "text/html": [
       "<table border='1'>\n",
       "<tr><th>gender</th><th>churn</th><th>count</th></tr>\n",
       "<tr><td>M</td><td>1</td><td>31</td></tr>\n",
       "<tr><td>F</td><td>0</td><td>84</td></tr>\n",
       "<tr><td>F</td><td>1</td><td>20</td></tr>\n",
       "<tr><td>M</td><td>0</td><td>90</td></tr>\n",
       "</table>\n"
      ],
      "text/plain": [
       "+------+-----+-----+\n",
       "|gender|churn|count|\n",
       "+------+-----+-----+\n",
       "|     M|    1|   31|\n",
       "|     F|    0|   84|\n",
       "|     F|    1|   20|\n",
       "|     M|    0|   90|\n",
       "+------+-----+-----+"
      ]
     },
     "execution_count": 21,
     "metadata": {},
     "output_type": "execute_result"
    }
   ],
   "source": [
    "# create a df grouped by churn and gender\n",
    "df_gender_churn = df_unique_user.select(['userId', 'churn', 'gender']).groupBy('gender', 'churn').count()\n",
    "df_gender_churn"
   ]
  },
  {
   "cell_type": "code",
   "execution_count": 22,
   "metadata": {},
   "outputs": [],
   "source": [
    "# convert to pandas\n",
    "df_gender_churn = df_gender_churn.toPandas()"
   ]
  },
  {
   "cell_type": "code",
   "execution_count": 23,
   "metadata": {},
   "outputs": [
    {
     "name": "stderr",
     "output_type": "stream",
     "text": [
      "C:\\Users\\tridh\\AppData\\Local\\Temp\\ipykernel_22116\\3270969894.py:6: UserWarning: set_ticklabels() should only be used with a fixed number of ticks, i.e. after set_ticks() or using a FixedLocator.\n",
      "  ax.set_xticklabels([\"Active\", \"Cancel\"])\n"
     ]
    },
    {
     "data": {
      "image/png": "[encoded data removed]",
      "text/plain": [
       "<Figure size 800x600 with 1 Axes>"
      ]
     },
     "metadata": {},
     "output_type": "display_data"
    }
   ],
   "source": [
    "# draw chart\n",
    "plt.figure(figsize = [8,6])\n",
    "ax = sns.barplot(data = df_gender_churn, x = 'churn', y='count', hue = 'gender')\n",
    "ax.legend(loc = 1, ncol = 2, framealpha =1, title = 'gender')\n",
    "ax.set_xlabel(\"Status\")\n",
    "ax.set_xticklabels([\"Active\", \"Cancel\"])\n",
    "plt.title(\"Active and Cancel by Gender\");\n",
    "plt.savefig('./graph/Active and Cancel by Gender.png')"
   ]
  },
  {
   "cell_type": "code",
   "execution_count": null,
   "metadata": {},
   "outputs": [],
   "source": []
  },
  {
   "cell_type": "code",
   "execution_count": null,
   "metadata": {},
   "outputs": [],
   "source": []
  },
  {
   "cell_type": "markdown",
   "metadata": {},
   "source": [
    "### Level of Users Active and Cancel"
   ]
  },
  {
   "cell_type": "code",
   "execution_count": 24,
   "metadata": {},
   "outputs": [
    {
     "data": {
      "text/html": [
       "<table border='1'>\n",
       "<tr><th>level</th><th>churn</th><th>count</th></tr>\n",
       "<tr><td>paid</td><td>0</td><td>114</td></tr>\n",
       "<tr><td>free</td><td>0</td><td>60</td></tr>\n",
       "<tr><td>paid</td><td>1</td><td>31</td></tr>\n",
       "<tr><td>free</td><td>1</td><td>20</td></tr>\n",
       "</table>\n"
      ],
      "text/plain": [
       "+-----+-----+-----+\n",
       "|level|churn|count|\n",
       "+-----+-----+-----+\n",
       "| paid|    0|  114|\n",
       "| free|    0|   60|\n",
       "| paid|    1|   31|\n",
       "| free|    1|   20|\n",
       "+-----+-----+-----+"
      ]
     },
     "execution_count": 24,
     "metadata": {},
     "output_type": "execute_result"
    }
   ],
   "source": [
    "\n",
    "# create the dataframe level\n",
    "df_level_churn = df_unique_user.select(['userId', 'churn', 'level']).groupBy('level','churn').count()\n",
    "df_level_churn"
   ]
  },
  {
   "cell_type": "code",
   "execution_count": 25,
   "metadata": {},
   "outputs": [],
   "source": [
    "# convert to pandas\n",
    "df_level_churn = df_level_churn.toPandas()"
   ]
  },
  {
   "cell_type": "code",
   "execution_count": 26,
   "metadata": {},
   "outputs": [
    {
     "name": "stderr",
     "output_type": "stream",
     "text": [
      "C:\\Users\\tridh\\AppData\\Local\\Temp\\ipykernel_22116\\3451074357.py:5: UserWarning: set_ticklabels() should only be used with a fixed number of ticks, i.e. after set_ticks() or using a FixedLocator.\n",
      "  ax.set_xticklabels([\"Active\", \"Cancel\"])\n"
     ]
    },
    {
     "data": {
      "image/png": "[encoded data removed]",
      "text/plain": [
       "<Figure size 800x600 with 1 Axes>"
      ]
     },
     "metadata": {},
     "output_type": "display_data"
    }
   ],
   "source": [
    "# draw chart\n",
    "plt.figure(figsize = [8,6])\n",
    "ax = sns.barplot(data = df_level_churn, x = 'churn', y='count', hue = 'level')\n",
    "ax.legend(loc = 1, ncol = 2, framealpha =1, title = 'level')\n",
    "ax.set_xticklabels([\"Active\", \"Cancel\"])\n",
    "ax.set_xlabel(\"Status\")\n",
    "plt.title(\"Number of Users That Churned by Level\");\n",
    "plt.savefig('./graph/Number of Users That Churned by Level.png')"
   ]
  },
  {
   "cell_type": "code",
   "execution_count": null,
   "metadata": {},
   "outputs": [],
   "source": []
  },
  {
   "cell_type": "code",
   "execution_count": null,
   "metadata": {},
   "outputs": [],
   "source": []
  },
  {
   "cell_type": "code",
   "execution_count": 27,
   "metadata": {},
   "outputs": [
    {
     "data": {
      "text/html": [
       "<table border='1'>\n",
       "<tr><th>userId</th><th>gender</th></tr>\n",
       "<tr><td>44</td><td>F</td></tr>\n",
       "<tr><td>46</td><td>F</td></tr>\n",
       "<tr><td>41</td><td>F</td></tr>\n",
       "<tr><td>72</td><td>F</td></tr>\n",
       "<tr><td>300023</td><td>F</td></tr>\n",
       "</table>\n"
      ],
      "text/plain": [
       "+------+------+\n",
       "|userId|gender|\n",
       "+------+------+\n",
       "|    44|     F|\n",
       "|    46|     F|\n",
       "|    41|     F|\n",
       "|    72|     F|\n",
       "|300023|     F|\n",
       "+------+------+"
      ]
     },
     "execution_count": 27,
     "metadata": {},
     "output_type": "execute_result"
    }
   ],
   "source": [
    "# Check the number of male and female in data\n",
    "df_gender  = df.select(['userId', 'gender']).dropDuplicates()\n",
    "df_gender.limit(5)"
   ]
  },
  {
   "cell_type": "code",
   "execution_count": 28,
   "metadata": {},
   "outputs": [],
   "source": [
    "# convert to pandas \n",
    "df_gender = df_gender.toPandas()"
   ]
  },
  {
   "cell_type": "code",
   "execution_count": 29,
   "metadata": {},
   "outputs": [
    {
     "data": {
      "image/png": "[encoded data removed]",
      "text/plain": [
       "<Figure size 800x600 with 1 Axes>"
      ]
     },
     "metadata": {},
     "output_type": "display_data"
    }
   ],
   "source": [
    "# Create chart to show number of male and female\n",
    "plt.figure(figsize = [8,6])\n",
    "# df_gender_count = df_gender.select('gender').toPandas()\n",
    "ax = sns.countplot(data = df_gender,  x = 'gender')\n",
    "plt.title(\"Number of Gender using Sparkify\", fontweight='bold');\n",
    "plt.savefig('./graph/Number of Gender using Sparkify.png')"
   ]
  },
  {
   "cell_type": "markdown",
   "metadata": {},
   "source": [
    "Male use Sparkify more than Female"
   ]
  },
  {
   "cell_type": "code",
   "execution_count": null,
   "metadata": {},
   "outputs": [],
   "source": []
  },
  {
   "cell_type": "code",
   "execution_count": 30,
   "metadata": {},
   "outputs": [],
   "source": [
    "gender_level = df_unique_user.select('gender', 'level', 'userId')"
   ]
  },
  {
   "cell_type": "code",
   "execution_count": 31,
   "metadata": {},
   "outputs": [],
   "source": [
    "df_gender_level = gender_level.groupby(['gender', 'level']).count().sort('gender').toPandas()\n",
    "df_gender_level['ratio'] = df_gender_level['count']/df_gender_level.groupby('gender')['count'].transform('sum') * 100\n"
   ]
  },
  {
   "cell_type": "code",
   "execution_count": 32,
   "metadata": {},
   "outputs": [
    {
     "data": {
      "image/png": "[encoded data removed]",
      "text/plain": [
       "<Figure size 800x500 with 1 Axes>"
      ]
     },
     "metadata": {},
     "output_type": "display_data"
    }
   ],
   "source": [
    "# reference to add name of x label:\n",
    "fig, ax = plt.subplots(figsize = (8,5), dpi = 100);\n",
    "sns.barplot(data = df_gender_level, x=\"gender\", y = \"count\", hue=\"level\");\n",
    "plt.ylim([0,140]);\n",
    "plt.title(\"Gender Distribution by Level\", fontweight='bold');\n",
    "plt.xlabel(\"Level\");\n",
    "plt.ylabel(\"Number of Users\");\n",
    "plt.legend(title='Gender');\n",
    "plt.savefig('./graph/Gender Distribution by Level.png')"
   ]
  },
  {
   "cell_type": "markdown",
   "metadata": {},
   "source": [
    "Ratio of Female Pay account more than Male"
   ]
  },
  {
   "cell_type": "code",
   "execution_count": null,
   "metadata": {},
   "outputs": [],
   "source": []
  },
  {
   "cell_type": "markdown",
   "metadata": {},
   "source": [
    "### Top 10 song"
   ]
  },
  {
   "cell_type": "code",
   "execution_count": 33,
   "metadata": {},
   "outputs": [],
   "source": [
    "song = df.toPandas()"
   ]
  },
  {
   "cell_type": "code",
   "execution_count": 34,
   "metadata": {},
   "outputs": [
    {
     "data": {
      "image/png": "[encoded data removed]",
      "text/plain": [
       "<Figure size 640x480 with 1 Axes>"
      ]
     },
     "metadata": {},
     "output_type": "display_data"
    }
   ],
   "source": [
    "top_10_song = song['song'].value_counts()[:10].sort_values()\n",
    "ax = top_10_song.plot(kind='barh',  color='skyblue')\n",
    "plt.title('Top 10 played song')\n",
    "plt.ylabel(\"Song's Name\" )\n",
    "plt.xlabel('Count');\n",
    "plt.savefig('./graph/Top 10 played song.png')"
   ]
  },
  {
   "cell_type": "code",
   "execution_count": null,
   "metadata": {},
   "outputs": [],
   "source": []
  },
  {
   "cell_type": "markdown",
   "metadata": {},
   "source": [
    "### Top 10 artist "
   ]
  },
  {
   "cell_type": "code",
   "execution_count": 35,
   "metadata": {},
   "outputs": [],
   "source": [
    "artist = df.toPandas()"
   ]
  },
  {
   "cell_type": "code",
   "execution_count": 36,
   "metadata": {},
   "outputs": [
    {
     "name": "stderr",
     "output_type": "stream",
     "text": [
      "C:\\Users\\tridh\\AppData\\Local\\Temp\\ipykernel_22116\\2154693834.py:9: UserWarning: Glyph 131 (\\x83) missing from current font.\n",
      "  plt.savefig('./graph/Top 10 artist have the most played songs.png')\n",
      "C:\\Users\\tridh\\AppData\\Local\\Programs\\Python\\Python311\\Lib\\site-packages\\IPython\\core\\pylabtools.py:152: UserWarning: Glyph 131 (\\x83) missing from current font.\n",
      "  fig.canvas.print_figure(bytes_io, **kw)\n"
     ]
    },
    {
     "data": {
      "image/png": "[encoded data removed]",
      "text/plain": [
       "<Figure size 640x480 with 1 Axes>"
      ]
     },
     "metadata": {},
     "output_type": "display_data"
    }
   ],
   "source": [
    "top_10_artist = artist['artist'].value_counts()[:10].sort_values()\n",
    "ax = top_10_artist.plot(kind='barh',  color='skyblue')\n",
    "# Add value labels to each bar\n",
    "# for i, v in enumerate(dow):\n",
    "#     ax.text(60000 + (v-60000)/2, i , str(v), color='black', fontweight='bold', va = 'center')\n",
    "plt.title('Top 10 artist have the most played songs')\n",
    "plt.ylabel(\"Artist's Name\" )\n",
    "plt.xlabel('Count');\n",
    "plt.savefig('./graph/Top 10 artist have the most played songs.png')"
   ]
  },
  {
   "cell_type": "code",
   "execution_count": null,
   "metadata": {},
   "outputs": [],
   "source": []
  },
  {
   "cell_type": "code",
   "execution_count": null,
   "metadata": {},
   "outputs": [],
   "source": []
  },
  {
   "cell_type": "code",
   "execution_count": null,
   "metadata": {},
   "outputs": [],
   "source": []
  },
  {
   "cell_type": "markdown",
   "metadata": {},
   "source": [
    "# Feature Engineering\n",
    "Once you've familiarized yourself with the data, build out the features you find promising to train your model on. To work with the full dataset, you can follow the following steps.\n",
    "- Write a script to extract the necessary features from the smaller subset of data\n",
    "- Ensure that your script is scalable, using the best practices discussed in Lesson 3\n",
    "- Try your script on the full data set, debugging your script if necessary\n",
    "\n",
    "If you are working in the classroom workspace, you can just extract features based on the small subset of data contained here. Be sure to transfer over this work to the larger dataset when you work on your Spark cluster."
   ]
  },
  {
   "cell_type": "code",
   "execution_count": 37,
   "metadata": {},
   "outputs": [
    {
     "data": {
      "text/html": [
       "<table border='1'>\n",
       "<tr><th>userId</th><th>avg_song_length</th><th>total_artist</th><th>total_song</th><th>total_session</th><th>total_thumb_up</th><th>total_thumb_down</th><th>total_add_friend</th><th>total_add_playlist</th><th>female</th><th>male</th></tr>\n",
       "<tr><td>100010</td><td>243.421444909091</td><td>252</td><td>269</td><td>381</td><td>17</td><td>5</td><td>4</td><td>7</td><td>1</td><td>0</td></tr>\n",
       "<tr><td>200002</td><td>242.91699209302305</td><td>339</td><td>378</td><td>474</td><td>21</td><td>6</td><td>4</td><td>8</td><td>0</td><td>1</td></tr>\n",
       "<tr><td>125</td><td>261.13913750000006</td><td>8</td><td>8</td><td>11</td><td>0</td><td>0</td><td>0</td><td>0</td><td>0</td><td>1</td></tr>\n",
       "<tr><td>124</td><td>248.17653659965674</td><td>2232</td><td>3339</td><td>4825</td><td>171</td><td>41</td><td>74</td><td>118</td><td>1</td><td>0</td></tr>\n",
       "<tr><td>51</td><td>247.88055082899118</td><td>1385</td><td>1854</td><td>2464</td><td>100</td><td>21</td><td>28</td><td>52</td><td>0</td><td>1</td></tr>\n",
       "</table>\n"
      ],
      "text/plain": [
       "+------+------------------+------------+----------+-------------+--------------+----------------+----------------+------------------+------+----+\n",
       "|userId|   avg_song_length|total_artist|total_song|total_session|total_thumb_up|total_thumb_down|total_add_friend|total_add_playlist|female|male|\n",
       "+------+------------------+------------+----------+-------------+--------------+----------------+----------------+------------------+------+----+\n",
       "|100010|  243.421444909091|         252|       269|          381|            17|               5|               4|                 7|     1|   0|\n",
       "|200002|242.91699209302305|         339|       378|          474|            21|               6|               4|                 8|     0|   1|\n",
       "|   125|261.13913750000006|           8|         8|           11|             0|               0|               0|                 0|     0|   1|\n",
       "|   124|248.17653659965674|        2232|      3339|         4825|           171|              41|              74|               118|     1|   0|\n",
       "|    51|247.88055082899118|        1385|      1854|         2464|           100|              21|              28|                52|     0|   1|\n",
       "+------+------------------+------------+----------+-------------+--------------+----------------+----------------+------------------+------+----+"
      ]
     },
     "execution_count": 37,
     "metadata": {},
     "output_type": "execute_result"
    }
   ],
   "source": [
    "# Create user dataframe\n",
    "df_feature = df.select('userId', 'level', 'gender', 'churn', 'ts', 'length', 'artist', 'song', 'page')\n",
    "\n",
    "df_user = df_feature.groupBy('userId').agg(\n",
    "    F.avg('length').alias('avg_song_length'),\n",
    "    F.countDistinct('artist').alias('total_artist'),\n",
    "    F.countDistinct('song').alias('total_song'),\n",
    "    F.count('page').alias('total_session'),\n",
    "    F.count(F.when(F.col('page') == 'Thumbs Up', True)).alias('total_thumb_up'),\n",
    "    F.count(F.when(F.col('page') == 'Thumbs Down', True)).alias('total_thumb_down'),\n",
    "    F.count(F.when(F.col('page') == 'Add Friend', True)).alias('total_add_friend'),\n",
    "    F.count(F.when(F.col('page') == 'Add to Playlist', True)).alias('total_add_playlist'),\n",
    "    F.countDistinct(F.when(F.col('gender') == 'F', True)).alias('female'),\n",
    "    F.countDistinct(F.when(F.col('gender') == 'M', True)).alias('male')\n",
    ")\n",
    "df_user.limit(5)"
   ]
  },
  {
   "cell_type": "code",
   "execution_count": 38,
   "metadata": {},
   "outputs": [
    {
     "data": {
      "text/html": [
       "<table border='1'>\n",
       "<tr><th>userId</th><th>churn</th></tr>\n",
       "<tr><td>73</td><td>0</td></tr>\n",
       "<tr><td>19</td><td>0</td></tr>\n",
       "<tr><td>100005</td><td>1</td></tr>\n",
       "<tr><td>200007</td><td>0</td></tr>\n",
       "<tr><td>300007</td><td>1</td></tr>\n",
       "</table>\n"
      ],
      "text/plain": [
       "+------+-----+\n",
       "|userId|churn|\n",
       "+------+-----+\n",
       "|    73|    0|\n",
       "|    19|    0|\n",
       "|100005|    1|\n",
       "|200007|    0|\n",
       "|300007|    1|\n",
       "+------+-----+"
      ]
     },
     "execution_count": 38,
     "metadata": {},
     "output_type": "execute_result"
    }
   ],
   "source": [
    "label = df.select('userId', F.col('churn')).dropDuplicates()\n",
    "label.limit(5)"
   ]
  },
  {
   "cell_type": "code",
   "execution_count": 39,
   "metadata": {},
   "outputs": [],
   "source": [
    "data = df_user.join(label, \"userId\").drop(\"userId\")\n",
    "data = data.dropna()"
   ]
  },
  {
   "cell_type": "code",
   "execution_count": null,
   "metadata": {},
   "outputs": [],
   "source": []
  },
  {
   "cell_type": "code",
   "execution_count": null,
   "metadata": {},
   "outputs": [],
   "source": []
  },
  {
   "cell_type": "markdown",
   "metadata": {},
   "source": [
    "# Modeling\n",
    "Split the full dataset into train, test, and validation sets. Test out several of the machine learning methods you learned. Evaluate the accuracy of the various models, tuning parameters as necessary. Determine your winning model based on test accuracy and report results on the validation set. Since the churned users are a fairly small subset, I suggest using F1 score as the metric to optimize."
   ]
  },
  {
   "cell_type": "code",
   "execution_count": 40,
   "metadata": {},
   "outputs": [
    {
     "data": {
      "text/plain": [
       "['avg_song_length',\n",
       " 'total_artist',\n",
       " 'total_song',\n",
       " 'total_session',\n",
       " 'total_thumb_up',\n",
       " 'total_thumb_down',\n",
       " 'total_add_friend',\n",
       " 'total_add_playlist',\n",
       " 'female',\n",
       " 'male']"
      ]
     },
     "execution_count": 40,
     "metadata": {},
     "output_type": "execute_result"
    }
   ],
   "source": [
    "feature_col = data.columns[:-1]\n",
    "feature_col"
   ]
  },
  {
   "cell_type": "code",
   "execution_count": 41,
   "metadata": {},
   "outputs": [],
   "source": [
    "# split the data to 75% training and 25% testing, set random state to 42.\n",
    "train, test = data.randomSplit([0.75, 0.25], seed=42)"
   ]
  },
  {
   "cell_type": "code",
   "execution_count": null,
   "metadata": {},
   "outputs": [],
   "source": []
  },
  {
   "cell_type": "code",
   "execution_count": 42,
   "metadata": {},
   "outputs": [],
   "source": [
    "def build_model(classifier, param):\n",
    "    \"\"\"\n",
    "        Build the classfication model with Cross Validation\n",
    "    \n",
    "    Input:\n",
    "        classifier: Model name\n",
    "        param: parameter tuning for the model\n",
    "    \n",
    "    Return:\n",
    "        Classfication model\n",
    "    \"\"\"\n",
    "    # create a vector for the features\n",
    "    assembler = VectorAssembler(inputCols=feature_col, outputCol=\"features_vec\")\n",
    "    # normalize the Vectors\n",
    "    scaler = Normalizer(inputCol=\"features_vec\", outputCol=\"features\")\n",
    "    # build Pipeline\n",
    "    pipeline = Pipeline(stages=[assembler, scaler, classifier])\n",
    "\n",
    "    model = CrossValidator(\n",
    "        estimator=pipeline,\n",
    "        estimatorParamMaps=param,\n",
    "        evaluator=MulticlassClassificationEvaluator(labelCol='churn', metricName='f1'),\n",
    "        numFolds=5,\n",
    "    )\n",
    "    return model"
   ]
  },
  {
   "cell_type": "code",
   "execution_count": 43,
   "metadata": {},
   "outputs": [],
   "source": [
    "def evaluate_model(pred):\n",
    "    \"\"\" \n",
    "    Input: \n",
    "        Pred: prediction values to make an evaluation model\n",
    "    Return:\n",
    "    \n",
    "        Model evaluation with F1 score metric \n",
    "    \n",
    "    \"\"\"\n",
    "    # using multiclassclassificationevaluator to get the F1 scores\n",
    "    evaluator = MulticlassClassificationEvaluator(predictionCol=\"prediction\", labelCol=\"churn\")\n",
    "    f1_score = evaluator.evaluate(pred, {evaluator.metricName: \"f1\"})\n",
    "    print('F1 score: {}'.format(f1_score))\n",
    "    return f1_score"
   ]
  },
  {
   "cell_type": "code",
   "execution_count": 44,
   "metadata": {},
   "outputs": [],
   "source": [
    "# Create 2 list to store model and f1_score\n",
    "lst_model = []\n",
    "lst_score = []"
   ]
  },
  {
   "cell_type": "markdown",
   "metadata": {},
   "source": [
    "In this projet we will using models below:\n",
    "* Logistic Regression\n",
    "* Linear Support Vector Machine\n",
    "* Random Forest Classifier\n",
    "* Gradient-Boosted Tree Classifier\n",
    "* Naive Bayes"
   ]
  },
  {
   "cell_type": "markdown",
   "metadata": {},
   "source": [
    "### Reason choose these models\n",
    "\n",
    "**Logistic regression**: This is a binary classification problem and that logistic regression produces a model with acceptable explainability, logistic regression is a trustworthy machine learning approach to try. Additionally simple to use, analyze, and train, logistic regression is an effective tool. It also has a lower propensity to overfit.\n",
    "\n",
    "**Random Forest**: For classification, Random Forest is an effective supervised learning system. RF is an ensemble method that uses several decision trees to generate predictions and bases the final decision on a majority vote. By doing so, overfitting may be prevented. Additionally, RF performs well on imbalanced datasets, such as the ones we have here, and is robust.\n",
    "\n",
    "**Gradient Boosted Tree Classifier (GBT)**: Unlike RF, which develops trees separately, this builds trees one at a time, with each new tree helping to remedy mistakes caused by the prior tree. With GBT, there is a chance of overfitting, therefore this must be taken into account. Nonetheless, GBT functions well with the unbalanced data that we have available.\n",
    "\n",
    "**Linear SVC**: It is memory-efficient and functions effectively with distinct class boundaries.\n",
    "\n",
    "**Naive Bayes**: This classifier algorithm is also fast and simple to build."
   ]
  },
  {
   "cell_type": "markdown",
   "metadata": {},
   "source": [
    "**Logistic regression**"
   ]
  },
  {
   "cell_type": "code",
   "execution_count": 45,
   "metadata": {},
   "outputs": [],
   "source": [
    "lr = LogisticRegression(featuresCol=\"features\", labelCol=\"churn\")\n",
    "lr_param = ParamGridBuilder().build()\n",
    "lr_model = build_model(lr, lr_param)\n",
    "lst_model.append('Logistic regression')"
   ]
  },
  {
   "cell_type": "code",
   "execution_count": 46,
   "metadata": {},
   "outputs": [
    {
     "name": "stdout",
     "output_type": "stream",
     "text": [
      "Train time: 54.92253088951111 seconds\n"
     ]
    }
   ],
   "source": [
    "start_time = time.time()\n",
    "lr_fit_model = lr_model.fit(train)\n",
    "print(\"Train time:\", time.time() - start_time, 'seconds')"
   ]
  },
  {
   "cell_type": "code",
   "execution_count": 47,
   "metadata": {},
   "outputs": [],
   "source": [
    "lr_pred = lr_fit_model.transform(test)"
   ]
  },
  {
   "cell_type": "code",
   "execution_count": 48,
   "metadata": {},
   "outputs": [
    {
     "name": "stdout",
     "output_type": "stream",
     "text": [
      "F1 score: 0.7020408163265305\n"
     ]
    }
   ],
   "source": [
    "lst_score.append(evaluate_model(lr_pred))"
   ]
  },
  {
   "cell_type": "markdown",
   "metadata": {},
   "source": [
    "**Random Forest**"
   ]
  },
  {
   "cell_type": "code",
   "execution_count": 49,
   "metadata": {},
   "outputs": [],
   "source": [
    "rfc = RandomForestClassifier(featuresCol=\"features\", labelCol=\"churn\")\n",
    "rfc_param = ParamGridBuilder().build()\n",
    "rfc_model = build_model(rfc, rfc_param)\n",
    "lst_model.append('Random Forest')"
   ]
  },
  {
   "cell_type": "code",
   "execution_count": 50,
   "metadata": {},
   "outputs": [
    {
     "name": "stdout",
     "output_type": "stream",
     "text": [
      "Train time: 51.17862272262573 seconds\n"
     ]
    }
   ],
   "source": [
    "start_time = time.time()\n",
    "rfc_fit_model = rfc_model.fit(train)\n",
    "print(\"Train time:\", time.time() - start_time, 'seconds')"
   ]
  },
  {
   "cell_type": "code",
   "execution_count": 51,
   "metadata": {},
   "outputs": [],
   "source": [
    "rfc_pred = rfc_fit_model.transform(test)"
   ]
  },
  {
   "cell_type": "code",
   "execution_count": 52,
   "metadata": {},
   "outputs": [
    {
     "name": "stdout",
     "output_type": "stream",
     "text": [
      "F1 score: 0.6927835051546392\n"
     ]
    }
   ],
   "source": [
    "lst_score.append(evaluate_model(rfc_pred))"
   ]
  },
  {
   "cell_type": "markdown",
   "metadata": {},
   "source": [
    "**Gradient Boosted Tree Classifier (GBT)**"
   ]
  },
  {
   "cell_type": "code",
   "execution_count": 53,
   "metadata": {},
   "outputs": [],
   "source": [
    "gb = GBTClassifier(featuresCol=\"features\", labelCol=\"churn\")\n",
    "gb_param = ParamGridBuilder().build()\n",
    "gb_model = build_model(gb, gb_param)\n",
    "lst_model.append('GBT')"
   ]
  },
  {
   "cell_type": "code",
   "execution_count": 54,
   "metadata": {},
   "outputs": [
    {
     "name": "stdout",
     "output_type": "stream",
     "text": [
      "Train time: 56.15191316604614 seconds\n"
     ]
    }
   ],
   "source": [
    "start_time = time.time()\n",
    "gb_fit_model = gb_model.fit(train)\n",
    "print(\"Train time:\", time.time() - start_time, 'seconds')"
   ]
  },
  {
   "cell_type": "code",
   "execution_count": 55,
   "metadata": {},
   "outputs": [],
   "source": [
    "gb_pred = gb_fit_model.transform(test)"
   ]
  },
  {
   "cell_type": "code",
   "execution_count": 56,
   "metadata": {},
   "outputs": [
    {
     "name": "stdout",
     "output_type": "stream",
     "text": [
      "F1 score: 0.6222222222222222\n"
     ]
    }
   ],
   "source": [
    "lst_score.append(evaluate_model(gb_pred))"
   ]
  },
  {
   "cell_type": "markdown",
   "metadata": {},
   "source": [
    "**Linear SVC**"
   ]
  },
  {
   "cell_type": "code",
   "execution_count": 57,
   "metadata": {},
   "outputs": [],
   "source": [
    "svc = LinearSVC(featuresCol=\"features\", labelCol=\"churn\")\n",
    "svc_param = ParamGridBuilder().build()\n",
    "svc_model = build_model(svc, svc_param)\n",
    "lst_model.append('Linear SVC')"
   ]
  },
  {
   "cell_type": "code",
   "execution_count": 58,
   "metadata": {},
   "outputs": [
    {
     "name": "stdout",
     "output_type": "stream",
     "text": [
      "Train time: 179.4764277935028 seconds\n"
     ]
    }
   ],
   "source": [
    "start_time = time.time()\n",
    "svc_fit_model = svc_model.fit(train)\n",
    "print(\"Train time:\", time.time() - start_time, 'seconds')"
   ]
  },
  {
   "cell_type": "code",
   "execution_count": 59,
   "metadata": {},
   "outputs": [],
   "source": [
    "svc_pred = svc_fit_model.transform(test)"
   ]
  },
  {
   "cell_type": "code",
   "execution_count": 60,
   "metadata": {},
   "outputs": [
    {
     "name": "stdout",
     "output_type": "stream",
     "text": [
      "F1 score: 0.7111111111111111\n"
     ]
    }
   ],
   "source": [
    "lst_score.append(evaluate_model(svc_pred))"
   ]
  },
  {
   "cell_type": "markdown",
   "metadata": {},
   "source": [
    "**Naive Bayes**"
   ]
  },
  {
   "cell_type": "code",
   "execution_count": 61,
   "metadata": {},
   "outputs": [],
   "source": [
    "nb = NaiveBayes(featuresCol=\"features\", labelCol=\"churn\")\n",
    "nb_param = ParamGridBuilder().build()\n",
    "nb_model = build_model(nb, nb_param)\n",
    "lst_model.append('Naive Bayes')"
   ]
  },
  {
   "cell_type": "code",
   "execution_count": 62,
   "metadata": {},
   "outputs": [
    {
     "name": "stdout",
     "output_type": "stream",
     "text": [
      "Train time: 39.8247332572937 seconds\n"
     ]
    }
   ],
   "source": [
    "start_time = time.time()\n",
    "nb_fit_model = nb_model.fit(train)\n",
    "print(\"Train time:\", time.time() - start_time, 'seconds')"
   ]
  },
  {
   "cell_type": "code",
   "execution_count": 63,
   "metadata": {},
   "outputs": [],
   "source": [
    "nb_pred = nb_fit_model.transform(test)"
   ]
  },
  {
   "cell_type": "code",
   "execution_count": 64,
   "metadata": {},
   "outputs": [
    {
     "name": "stdout",
     "output_type": "stream",
     "text": [
      "F1 score: 0.7111111111111111\n"
     ]
    }
   ],
   "source": [
    "lst_score.append(evaluate_model(nb_pred))"
   ]
  },
  {
   "cell_type": "markdown",
   "metadata": {},
   "source": [
    "As we can see, Linear SVC and Naive Bayes have the same score but Naive Bayes have shorter times to train data. So we try to improve "
   ]
  },
  {
   "cell_type": "code",
   "execution_count": 65,
   "metadata": {},
   "outputs": [
    {
     "data": {
      "text/plain": [
       "[0.7020408163265305,\n",
       " 0.6927835051546392,\n",
       " 0.6222222222222222,\n",
       " 0.7111111111111111,\n",
       " 0.7111111111111111]"
      ]
     },
     "execution_count": 65,
     "metadata": {},
     "output_type": "execute_result"
    }
   ],
   "source": [
    "lst_score"
   ]
  },
  {
   "cell_type": "code",
   "execution_count": 69,
   "metadata": {},
   "outputs": [
    {
     "data": {
      "image/png": "[encoded data removed]",
      "text/plain": [
       "<Figure size 640x480 with 1 Axes>"
      ]
     },
     "metadata": {},
     "output_type": "display_data"
    },
    {
     "data": {
      "text/plain": [
       "<Figure size 640x480 with 0 Axes>"
      ]
     },
     "metadata": {},
     "output_type": "display_data"
    }
   ],
   "source": [
    "sns.barplot(y = lst_model, x = lst_score)\n",
    "plt.xlabel('Score')\n",
    "plt.ylabel('Model  name')\n",
    "plt.title('F1 Score for each Model')\n",
    "plt.show();\n",
    "plt.savefig('./graph/F1 Score for each Model.png');"
   ]
  },
  {
   "cell_type": "code",
   "execution_count": null,
   "metadata": {},
   "outputs": [],
   "source": []
  },
  {
   "cell_type": "markdown",
   "metadata": {},
   "source": [
    "# Final Steps\n",
    "Clean up your code, adding comments and renaming variables to make the code easier to read and maintain. Refer to the Spark Project Overview page and Data Scientist Capstone Project Rubric to make sure you are including all components of the capstone project and meet all expectations. Remember, this includes thorough documentation in a README file in a Github repository, as well as a web app or blog post."
   ]
  },
  {
   "cell_type": "code",
   "execution_count": null,
   "metadata": {},
   "outputs": [],
   "source": []
  }
 ],
 "metadata": {
  "kernelspec": {
   "display_name": "Python 3 (ipykernel)",
   "language": "python",
   "name": "python3"
  },
  "language_info": {
   "codemirror_mode": {
    "name": "ipython",
    "version": 3
   },
   "file_extension": ".py",
   "mimetype": "text/x-python",
   "name": "python",
   "nbconvert_exporter": "python",
   "pygments_lexer": "ipython3",
   "version": "3.11.2"
  }
 },
 "nbformat": 4,
 "nbformat_minor": 4
}
